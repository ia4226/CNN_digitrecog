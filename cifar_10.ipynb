{
  "nbformat": 4,
  "nbformat_minor": 0,
  "metadata": {
    "colab": {
      "provenance": [],
      "authorship_tag": "ABX9TyMcJNWAs1cEsqaFvuVHT4gB",
      "include_colab_link": true
    },
    "kernelspec": {
      "name": "python3",
      "display_name": "Python 3"
    },
    "language_info": {
      "name": "python"
    }
  },
  "cells": [
    {
      "cell_type": "markdown",
      "metadata": {
        "id": "view-in-github",
        "colab_type": "text"
      },
      "source": [
        "<a href=\"https://colab.research.google.com/github/ia4226/CNN_digitrecog/blob/main/cifar_10.ipynb\" target=\"_parent\"><img src=\"https://colab.research.google.com/assets/colab-badge.svg\" alt=\"Open In Colab\"/></a>"
      ]
    },
    {
      "cell_type": "code",
      "execution_count": 1,
      "metadata": {
        "id": "-5yGB3ZO4lNS"
      },
      "outputs": [],
      "source": [
        "import tensorflow as tf\n",
        "from tensorflow import keras\n"
      ]
    },
    {
      "cell_type": "code",
      "source": [
        "# Load the CIFAR-10 dataset\n",
        "(x_train, y_train), (x_test, y_test) = keras.datasets.cifar10.load_data()\n"
      ],
      "metadata": {
        "colab": {
          "base_uri": "https://localhost:8080/"
        },
        "id": "ZIn79K6r5XiH",
        "outputId": "9bfe810e-3fb1-4dcb-d76f-aa1d5bb28b35"
      },
      "execution_count": 2,
      "outputs": [
        {
          "output_type": "stream",
          "name": "stdout",
          "text": [
            "Downloading data from https://www.cs.toronto.edu/~kriz/cifar-10-python.tar.gz\n",
            "170498071/170498071 [==============================] - 5s 0us/step\n"
          ]
        }
      ]
    },
    {
      "cell_type": "code",
      "source": [
        "# Normalize pixel values between 0 and 1\n",
        "x_train = x_train.astype('float32') / 255\n",
        "x_test = x_test.astype('float32') / 255\n"
      ],
      "metadata": {
        "id": "w4PotQTH48_-"
      },
      "execution_count": 3,
      "outputs": []
    },
    {
      "cell_type": "code",
      "source": [
        "# Define the CNN architecture\n",
        "model = keras.Sequential([\n",
        "    keras.layers.Conv2D(32, (3, 3), padding='same',\n",
        "                        activation='relu', input_shape=x_train.shape[1:]),\n",
        "    keras.layers.MaxPooling2D((2, 2)),\n",
        "    keras.layers.Conv2D(64, (3, 3), padding='same', activation='relu'),\n",
        "    keras.layers.MaxPooling2D((2, 2)),\n",
        "    keras.layers.Flatten(),\n",
        "    keras.layers.Dense(64, activation='relu'),\n",
        "    keras.layers.Dense(10)\n",
        "])"
      ],
      "metadata": {
        "id": "rGrig3aS48tO"
      },
      "execution_count": 4,
      "outputs": []
    },
    {
      "cell_type": "code",
      "source": [
        "# Compile the model\n",
        "model.compile(optimizer='adam',\n",
        "              loss=tf.keras.losses.SparseCategoricalCrossentropy(\n",
        "                  from_logits=True),\n",
        "              metrics=['accuracy'])"
      ],
      "metadata": {
        "id": "PX43z-Zi48lu"
      },
      "execution_count": 5,
      "outputs": []
    },
    {
      "cell_type": "code",
      "source": [
        "# Train the model on the training data\n",
        "model.fit(x_train, y_train, epochs=10, validation_data=(x_test, y_test))"
      ],
      "metadata": {
        "colab": {
          "base_uri": "https://localhost:8080/"
        },
        "id": "IEuKoX0s48eu",
        "outputId": "f1d125c4-5e65-4e24-a1f2-1d097b8114fb"
      },
      "execution_count": 6,
      "outputs": [
        {
          "output_type": "stream",
          "name": "stdout",
          "text": [
            "Epoch 1/10\n",
            "1563/1563 [==============================] - 80s 51ms/step - loss: 1.3615 - accuracy: 0.5168 - val_loss: 1.0802 - val_accuracy: 0.6201\n",
            "Epoch 2/10\n",
            "1563/1563 [==============================] - 75s 48ms/step - loss: 0.9939 - accuracy: 0.6531 - val_loss: 0.9492 - val_accuracy: 0.6675\n",
            "Epoch 3/10\n",
            "1563/1563 [==============================] - 78s 50ms/step - loss: 0.8763 - accuracy: 0.6945 - val_loss: 0.9218 - val_accuracy: 0.6816\n",
            "Epoch 4/10\n",
            "1563/1563 [==============================] - 76s 49ms/step - loss: 0.7866 - accuracy: 0.7269 - val_loss: 0.8783 - val_accuracy: 0.6958\n",
            "Epoch 5/10\n",
            "1563/1563 [==============================] - 76s 49ms/step - loss: 0.7191 - accuracy: 0.7511 - val_loss: 0.8865 - val_accuracy: 0.7020\n",
            "Epoch 6/10\n",
            "1563/1563 [==============================] - 80s 51ms/step - loss: 0.6565 - accuracy: 0.7705 - val_loss: 0.9006 - val_accuracy: 0.6980\n",
            "Epoch 7/10\n",
            "1563/1563 [==============================] - 75s 48ms/step - loss: 0.5982 - accuracy: 0.7912 - val_loss: 0.9498 - val_accuracy: 0.6890\n",
            "Epoch 8/10\n",
            "1563/1563 [==============================] - 75s 48ms/step - loss: 0.5431 - accuracy: 0.8100 - val_loss: 0.9422 - val_accuracy: 0.6977\n",
            "Epoch 9/10\n",
            "1563/1563 [==============================] - 76s 49ms/step - loss: 0.4946 - accuracy: 0.8259 - val_loss: 0.9795 - val_accuracy: 0.6997\n",
            "Epoch 10/10\n",
            "1563/1563 [==============================] - 75s 48ms/step - loss: 0.4509 - accuracy: 0.8436 - val_loss: 0.9975 - val_accuracy: 0.6978\n"
          ]
        },
        {
          "output_type": "execute_result",
          "data": {
            "text/plain": [
              "<keras.src.callbacks.History at 0x7e00ec73aa40>"
            ]
          },
          "metadata": {},
          "execution_count": 6
        }
      ]
    },
    {
      "cell_type": "code",
      "source": [
        "# Evaluate the model on the test data\n",
        "test_loss, test_acc = model.evaluate(x_test, y_test)\n",
        "print(f'Test accuracy: {test_acc}')"
      ],
      "metadata": {
        "colab": {
          "base_uri": "https://localhost:8080/"
        },
        "id": "zZIWLc1I48V3",
        "outputId": "c252958d-6adb-4801-f711-679ab0f90ac1"
      },
      "execution_count": 7,
      "outputs": [
        {
          "output_type": "stream",
          "name": "stdout",
          "text": [
            "313/313 [==============================] - 4s 13ms/step - loss: 0.9975 - accuracy: 0.6978\n",
            "Test accuracy: 0.6977999806404114\n"
          ]
        }
      ]
    },
    {
      "cell_type": "code",
      "source": [
        "import numpy as np\n",
        "import matplotlib.pyplot as plt\n",
        "\n",
        "\n",
        "predictions = model.predict(x_test)\n",
        "\n",
        "for i in range(3):\n",
        "    index = np.random.randint(0, len(x_test))\n",
        "\n",
        "    plt.imshow(x_test[index])\n",
        "    plt.axis('off')\n",
        "    plt.show()\n",
        "\n",
        "    predicted_class = np.argmax(predictions[index])\n",
        "\n",
        "    true_class = y_test[index][0]\n",
        "\n",
        "    class_names = ['airplane', 'automobile', 'bird', 'cat', 'deer',\n",
        "                   'dog', 'frog', 'horse', 'ship', 'truck']\n",
        "\n",
        "    print(f'Predicted class: {class_names[predicted_class]}')\n",
        "    print(f'True class: {class_names[true_class]}')\n",
        "    print()"
      ],
      "metadata": {
        "colab": {
          "base_uri": "https://localhost:8080/",
          "height": 1000
        },
        "id": "lbLkgv9v9m9V",
        "outputId": "6e86609d-d0aa-4a93-eb07-77b54b97c3e1"
      },
      "execution_count": 11,
      "outputs": [
        {
          "output_type": "stream",
          "name": "stdout",
          "text": [
            "313/313 [==============================] - 4s 13ms/step\n"
          ]
        },
        {
          "output_type": "display_data",
          "data": {
            "text/plain": [
              "<Figure size 640x480 with 1 Axes>"
            ],
            "image/png": "[encoded data removed]"
          },
          "metadata": {}
        },
        {
          "output_type": "stream",
          "name": "stdout",
          "text": [
            "Predicted class: bird\n",
            "True class: dog\n",
            "\n"
          ]
        },
        {
          "output_type": "display_data",
          "data": {
            "text/plain": [
              "<Figure size 640x480 with 1 Axes>"
            ],
            "image/png": "[encoded data removed]"
          },
          "metadata": {}
        },
        {
          "output_type": "stream",
          "name": "stdout",
          "text": [
            "Predicted class: truck\n",
            "True class: truck\n",
            "\n"
          ]
        },
        {
          "output_type": "display_data",
          "data": {
            "text/plain": [
              "<Figure size 640x480 with 1 Axes>"
            ],
            "image/png": "[encoded data removed]"
          },
          "metadata": {}
        },
        {
          "output_type": "stream",
          "name": "stdout",
          "text": [
            "Predicted class: bird\n",
            "True class: bird\n",
            "\n"
          ]
        }
      ]
    },
    {
      "cell_type": "code",
      "source": [],
      "metadata": {
        "id": "1KWP9Sd69qae"
      },
      "execution_count": null,
      "outputs": []
    }
  ]
}