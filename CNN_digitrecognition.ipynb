{
  "nbformat": 4,
  "nbformat_minor": 0,
  "metadata": {
    "colab": {
      "provenance": [],
      "gpuType": "T4",
      "authorship_tag": "ABX9TyMwN1gxoM3eU2OZZz3U5ede",
      "include_colab_link": true
    },
    "kernelspec": {
      "name": "python3",
      "display_name": "Python 3"
    },
    "language_info": {
      "name": "python"
    },
    "accelerator": "GPU"
  },
  "cells": [
    {
      "cell_type": "markdown",
      "metadata": {
        "id": "view-in-github",
        "colab_type": "text"
      },
      "source": [
        "<a href=\"https://colab.research.google.com/github/ia4226/CNN_digitrecog/blob/main/CNN_digitrecognition.ipynb\" target=\"_parent\"><img src=\"https://colab.research.google.com/assets/colab-badge.svg\" alt=\"Open In Colab\"/></a>"
      ]
    },
    {
      "cell_type": "markdown",
      "source": [
        "Step 1 : Import necessary dependencies\n",
        "\n"
      ],
      "metadata": {
        "id": "FH3j59RVkNFj"
      }
    },
    {
      "cell_type": "code",
      "execution_count": 6,
      "metadata": {
        "id": "h-udTZNrgmuo"
      },
      "outputs": [],
      "source": [
        "import numpy as np\n",
        "import matplotlib.pyplot as plt\n",
        "from tensorflow.keras.datasets import mnist\n",
        "from tensorflow.keras.models import Sequential\n",
        "from tensorflow.keras.layers import Conv2D, MaxPooling2D, Flatten, Dense\n",
        "from tensorflow.keras.utils import to_categorical\n"
      ]
    },
    {
      "cell_type": "markdown",
      "source": [
        "Step 2 : PreProcess"
      ],
      "metadata": {
        "id": "GyD8gHUNkRyx"
      }
    },
    {
      "cell_type": "code",
      "source": [
        "(train_images, train_labels), (test_images, test_labels) = mnist.load_data()\n"
      ],
      "metadata": {
        "colab": {
          "base_uri": "https://localhost:8080/"
        },
        "id": "_ON4rUcQii4r",
        "outputId": "5b1d6766-17f6-4e38-fd4d-e52486040b3f"
      },
      "execution_count": 7,
      "outputs": [
        {
          "output_type": "stream",
          "name": "stdout",
          "text": [
            "Downloading data from https://storage.googleapis.com/tensorflow/tf-keras-datasets/mnist.npz\n",
            "11490434/11490434 [==============================] - 0s 0us/step\n"
          ]
        }
      ]
    },
    {
      "cell_type": "markdown",
      "source": [
        "Step 3: Reshape"
      ],
      "metadata": {
        "id": "LOyNtbjEkVUX"
      }
    },
    {
      "cell_type": "code",
      "source": [
        "\n",
        "train_images = train_images.reshape((60000, 28, 28, 1)).astype('float32') / 255\n",
        "test_images = test_images.reshape((10000, 28, 28, 1)).astype('float32') / 255"
      ],
      "metadata": {
        "id": "uQus6hBQjcji"
      },
      "execution_count": 8,
      "outputs": []
    },
    {
      "cell_type": "markdown",
      "source": [
        "Shape 4: One-hot encode the labels"
      ],
      "metadata": {
        "id": "BHBODbWTkahO"
      }
    },
    {
      "cell_type": "code",
      "source": [
        "train_labels = to_categorical(train_labels)\n",
        "test_labels = to_categorical(test_labels)"
      ],
      "metadata": {
        "id": "QQIa4apajhAY"
      },
      "execution_count": 9,
      "outputs": []
    },
    {
      "cell_type": "markdown",
      "source": [
        "Step 5 : Build the CNN model"
      ],
      "metadata": {
        "id": "0RyU4ACAkcMT"
      }
    },
    {
      "cell_type": "code",
      "source": [
        "model = Sequential()\n",
        "model.add(Conv2D(32, (3, 3), activation='relu', input_shape=(28, 28, 1)))\n",
        "model.add(MaxPooling2D((2, 2)))\n",
        "model.add(Conv2D(64, (3, 3), activation='relu'))\n",
        "model.add(MaxPooling2D((2, 2)))\n",
        "model.add(Conv2D(64, (3, 3), activation='relu'))\n",
        "model.add(Flatten())\n",
        "model.add(Dense(64, activation='relu'))\n",
        "model.add(Dense(10, activation='softmax'))"
      ],
      "metadata": {
        "id": "hF1kwhKgjkdT"
      },
      "execution_count": 10,
      "outputs": []
    },
    {
      "cell_type": "markdown",
      "source": [
        "Step 6 : Compile the model"
      ],
      "metadata": {
        "id": "OV7bLlHwkgPA"
      }
    },
    {
      "cell_type": "code",
      "source": [
        "model.compile(optimizer='adam', loss='categorical_crossentropy', metrics=['accuracy'])\n"
      ],
      "metadata": {
        "id": "TlvFmIb5joRi"
      },
      "execution_count": 11,
      "outputs": []
    },
    {
      "cell_type": "markdown",
      "source": [
        "Step 7 : Train the model"
      ],
      "metadata": {
        "id": "qcm9ZqfKkjqN"
      }
    },
    {
      "cell_type": "code",
      "source": [
        "model.fit(train_images, train_labels, epochs=5, batch_size=64, validation_split=0.2)\n"
      ],
      "metadata": {
        "colab": {
          "base_uri": "https://localhost:8080/"
        },
        "id": "S62Blf2hjsja",
        "outputId": "d2b58650-023f-49fd-d4e0-4e7374d870be"
      },
      "execution_count": 12,
      "outputs": [
        {
          "output_type": "stream",
          "name": "stdout",
          "text": [
            "Epoch 1/5\n",
            "750/750 [==============================] - 14s 5ms/step - loss: 0.2176 - accuracy: 0.9330 - val_loss: 0.0672 - val_accuracy: 0.9806\n",
            "Epoch 2/5\n",
            "750/750 [==============================] - 3s 5ms/step - loss: 0.0597 - accuracy: 0.9813 - val_loss: 0.0490 - val_accuracy: 0.9856\n",
            "Epoch 3/5\n",
            "750/750 [==============================] - 4s 6ms/step - loss: 0.0420 - accuracy: 0.9871 - val_loss: 0.0441 - val_accuracy: 0.9868\n",
            "Epoch 4/5\n",
            "750/750 [==============================] - 3s 5ms/step - loss: 0.0327 - accuracy: 0.9899 - val_loss: 0.0544 - val_accuracy: 0.9828\n",
            "Epoch 5/5\n",
            "750/750 [==============================] - 4s 5ms/step - loss: 0.0249 - accuracy: 0.9920 - val_loss: 0.0361 - val_accuracy: 0.9897\n"
          ]
        },
        {
          "output_type": "execute_result",
          "data": {
            "text/plain": [
              "<keras.src.callbacks.History at 0x7f2a888f0f70>"
            ]
          },
          "metadata": {},
          "execution_count": 12
        }
      ]
    },
    {
      "cell_type": "markdown",
      "source": [
        "Step 8 : Evaluate the model on the test set"
      ],
      "metadata": {
        "id": "wUDlPVnCknTB"
      }
    },
    {
      "cell_type": "code",
      "source": [
        "test_loss, test_acc = model.evaluate(test_images, test_labels)\n",
        "print(f'Test accuracy: {test_acc}')"
      ],
      "metadata": {
        "colab": {
          "base_uri": "https://localhost:8080/"
        },
        "id": "wySCdUHNjvRL",
        "outputId": "a8b476a3-dd48-4f1b-807f-2fe67d350968"
      },
      "execution_count": 13,
      "outputs": [
        {
          "output_type": "stream",
          "name": "stdout",
          "text": [
            "313/313 [==============================] - 1s 3ms/step - loss: 0.0348 - accuracy: 0.9881\n",
            "Test accuracy: 0.988099992275238\n"
          ]
        }
      ]
    },
    {
      "cell_type": "markdown",
      "source": [
        "Step 9 : predictions"
      ],
      "metadata": {
        "id": "Zbk9biXYkrnq"
      }
    },
    {
      "cell_type": "code",
      "source": [
        "predictions = model.predict(test_images[:5])\n",
        "predicted_labels = np.argmax(predictions, axis=1)"
      ],
      "metadata": {
        "colab": {
          "base_uri": "https://localhost:8080/"
        },
        "id": "JGj-AXalj6Rw",
        "outputId": "d23d5c4e-3d54-48d1-a3a8-1ca720c1f352"
      },
      "execution_count": 14,
      "outputs": [
        {
          "output_type": "stream",
          "name": "stdout",
          "text": [
            "1/1 [==============================] - 0s 223ms/step\n"
          ]
        }
      ]
    },
    {
      "cell_type": "markdown",
      "source": [
        "Step 10 : Visualize"
      ],
      "metadata": {
        "id": "qosRmUpKkvMd"
      }
    },
    {
      "cell_type": "code",
      "source": [
        "for i in range(5):\n",
        "    plt.imshow(test_images[i].reshape(28, 28), cmap='gray')\n",
        "    plt.title(f'Predicted: {predicted_labels[i]}')\n",
        "    plt.show()"
      ],
      "metadata": {
        "colab": {
          "base_uri": "https://localhost:8080/",
          "height": 1000
        },
        "id": "YscOOVdoj9Qy",
        "outputId": "72f4999e-11e0-445e-913e-d57ebf592729"
      },
      "execution_count": 15,
      "outputs": [
        {
          "output_type": "display_data",
          "data": {
            "text/plain": [
              "<Figure size 640x480 with 1 Axes>"
            ],
            "image/png": "[encoded data removed]"
          },
          "metadata": {}
        },
        {
          "output_type": "display_data",
          "data": {
            "text/plain": [
              "<Figure size 640x480 with 1 Axes>"
            ],
            "image/png": "[encoded data removed]"
          },
          "metadata": {}
        },
        {
          "output_type": "display_data",
          "data": {
            "text/plain": [
              "<Figure size 640x480 with 1 Axes>"
            ],
            "image/png": "[encoded data removed]"
          },
          "metadata": {}
        },
        {
          "output_type": "display_data",
          "data": {
            "text/plain": [
              "<Figure size 640x480 with 1 Axes>"
            ],
            "image/png": "[encoded data removed]"
          },
          "metadata": {}
        },
        {
          "output_type": "display_data",
          "data": {
            "text/plain": [
              "<Figure size 640x480 with 1 Axes>"
            ],
            "image/png": "[encoded data removed]"
          },
          "metadata": {}
        }
      ]
    },
    {
      "cell_type": "markdown",
      "source": [
        "Detailed Explaination :\n",
        "\n",
        "1. Import necessary dependencies:\n",
        "The code begins by importing essential libraries, including NumPy for numerical operations, Matplotlib for plotting, and TensorFlow with Keras for deep learning. These libraries provide tools for handling data, creating neural network models, and visualizing results.\n",
        "import numpy as np\n",
        "import matplotlib.pyplot as plt\n",
        "from tensorflow.keras.datasets import mnist\n",
        "from tensorflow.keras.models import Sequential\n",
        "from tensorflow.keras.layers import Conv2D, MaxPooling2D, Flatten, Dense\n",
        "from tensorflow.keras.utils import to_categorical\n",
        "\n",
        "\n",
        "2. PreProcess:\n",
        "The MNIST dataset, consisting of handwritten digit images and their corresponding labels, is loaded into training and testing sets. This dataset is a standard benchmark for digit recognition tasks. The training and testing images are then reshaped to have a single channel (grayscale) and normalized to ensure pixel values range between 0 and 1.\n",
        "(train_images, train_labels), (test_images, test_labels) = mnist.load_data()\n",
        "\n",
        "\n",
        "3. Reshape:\n",
        "The images in the dataset are reshaped to conform to the input requirements of the neural network model. Additionally, pixel values are normalized, which involves scaling them to a range between 0 and 1. This normalization helps in training the neural network more effectively.\n",
        "train_images = train_images.reshape((60000, 28, 28, 1)).astype('float32') / 255\n",
        "test_images = test_images.reshape((10000, 28, 28, 1)).astype('float32') / 255\n",
        "\n",
        "\n",
        "4. One-hot encode the labels:\n",
        "The digit labels, representing numbers from 0 to 9, are converted into one-hot encoded vectors. This encoding is a way to represent categorical data numerically, with each digit corresponding to a unique vector. It facilitates the training of the neural network for a multi-class classification task.\n",
        "train_labels = to_categorical(train_labels)\n",
        "test_labels = to_categorical(test_labels)\n",
        "\n",
        "\n",
        "5. Build the CNN model:\n",
        "The Convolutional Neural Network (CNN) model is constructed using the Sequential API from Keras. The model consists of convolutional layers, max-pooling layers, and dense layers. These layers are designed to capture hierarchical features in the input images, leading to effective digit recognition.\n",
        "model = Sequential()\n",
        "model.add(Conv2D(32, (3, 3), activation='relu', input_shape=(28, 28, 1)))\n",
        "model.add(MaxPooling2D((2, 2)))\n",
        "model.add(Conv2D(64, (3, 3), activation='relu'))\n",
        "model.add(MaxPooling2D((2, 2)))\n",
        "model.add(Conv2D(64, (3, 3), activation='relu'))\n",
        "model.add(Flatten())\n",
        "model.add(Dense(64, activation='relu'))\n",
        "model.add(Dense(10, activation='softmax'))\n",
        "\n",
        "\n",
        "6. Compile:\n",
        "The CNN model is compiled with specific configurations for training. The Adam optimizer is chosen for optimization, categorical cross-entropy is set as the loss function suitable for multi-class classification, and accuracy is selected as the evaluation metric to monitor during training.\n",
        "model.compile(optimizer='adam', loss='categorical_crossentropy', metrics=['accuracy'])\n",
        "\n",
        "\n",
        "7. Train:\n",
        "The compiled model is trained on the training set. The training process involves iteratively adjusting the model's parameters based on the training data, with the goal of minimizing the chosen loss function. In this case, the training is performed for a specified number of epochs (iterations through the entire training set).\n",
        "model.fit(train_images, train_labels, epochs=5, batch_size=64, validation_split=0.2)\n",
        "\n",
        "\n",
        "8. Evaluate:\n",
        "The trained model is evaluated on a separate test set to assess its performance on unseen data. The evaluation includes calculating the loss and accuracy metrics. This step provides insights into how well the model generalizes to new, unseen examples.\n",
        "test_loss, test_acc = model.evaluate(test_images, test_labels)\n",
        "print(f'Test accuracy: {test_acc}')\n",
        "\n",
        "\n",
        "9. predictions:\n",
        "The trained model is used to make predictions on a subset of test images. The predictions are probabilities associated with each digit class. The argmax function is applied to obtain the predicted digit labels from these probability distributions.\n",
        "predictions = model.predict(test_images[:5])\n",
        "predicted_labels = np.argmax(predictions, axis=1)\n",
        "\n",
        "\n",
        "10. Visualize:\n",
        "The final step involves visualizing the results. For a few selected test images, the model's predictions are displayed alongside the actual images. This visualization provides a qualitative assessment of how well the model performs in recognizing handwritten digits. Each image is shown in grayscale, and the predicted digit label is presented for comparison.\n",
        "\n",
        "for i in range(5):\n",
        "    plt.imshow(test_images[i].reshape(28, 28), cmap='gray')\n",
        "    plt.title(f'Predicted: {predicted_labels[i]}')\n",
        "    plt.show()\n",
        "\n"
      ],
      "metadata": {
        "id": "4rBzAUJDkzMG"
      }
    },
    {
      "cell_type": "code",
      "source": [],
      "metadata": {
        "id": "-NWop428kA2c"
      },
      "execution_count": null,
      "outputs": []
    }
  ]
}